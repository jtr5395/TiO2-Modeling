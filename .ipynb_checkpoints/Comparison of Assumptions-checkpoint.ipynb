{
 "cells": [
  {
   "cell_type": "code",
   "execution_count": 1,
   "metadata": {
    "collapsed": false
   },
   "outputs": [],
   "source": [
    "%matplotlib inline\n",
    "import matplotlib.pyplot as plt\n",
    "import numpy as np\n",
    "from scipy.integrate import odeint"
   ]
  },
  {
   "cell_type": "code",
   "execution_count": 25,
   "metadata": {
    "collapsed": true
   },
   "outputs": [],
   "source": [
    "# Shared Variables\n",
    "\n",
    "TiCl40 = 2 # mol/m^3\n",
    "O20 = 10 # mol/m^3\n",
    "\n",
    "end_time = 100\n",
    "steps = 1000\n",
    "\n",
    "times = np.linspace(0, end_time, steps)\n",
    "\n",
    "A1 = 8.26e4\n",
    "A2 = 1.4e5 \n",
    "Ea = 88000 # J/mol\n",
    "R = 8.314 # J/mol*K\n",
    "T0 = 800 # K\n",
    "\n",
    "isothermal_initial_conditions = (TiCl40, O20)\n",
    "isobaric_initial_conditions = (TiCl40, O20, T0)\n",
    "\n",
    "# P will not be defined so that the reactant concentrations can be altered directly"
   ]
  },
  {
   "cell_type": "code",
   "execution_count": 3,
   "metadata": {
    "collapsed": true
   },
   "outputs": [],
   "source": [
    "# Thermodynamic Data:\n",
    "\n",
    "A_TiCl4 = 143.0480\n",
    "B_TiCl4 = 7.600362\n",
    "C_TiCl4 = 1.530575\n",
    "D_TiCl4 = -0.538376\n",
    "E_TiCl4 = -0.020638\n",
    "\n",
    "A_O2 = 30.03235\n",
    "B_O2 = 8.772972\n",
    "C_O2 = -3.988133\n",
    "D_O2 = 0.788313\n",
    "E_O2 = -0.741599\n",
    "\n",
    "A_TiO2 = 67.29830\n",
    "B_TiO2 = 18.70940\n",
    "C_TiO2 = -11.57900\n",
    "D_TiO2 = 2.449561\n",
    "E_TiO2 = -1.485471\n",
    "\n",
    "A_Cl2 = 42.67730\n",
    "B_Cl2 = -5.009570\n",
    "C_Cl2 = 1.904621\n",
    "D_Cl2 = -0.165641\n",
    "E_Cl2 = -2.098480"
   ]
  },
  {
   "cell_type": "code",
   "execution_count": 4,
   "metadata": {
    "collapsed": false
   },
   "outputs": [],
   "source": [
    "# Simple first order, constant T, constant P\n",
    "\n",
    "def first_order_rates(variables, time):\n",
    "    \"\"\"\n",
    "    Return the right hand side of the ODE\n",
    "    \"\"\"\n",
    "    k = A1*np.exp(-Ea/(R*T0)) * 1e-3\n",
    "    \n",
    "    TiCl4, O2 = variables\n",
    "    rate_TiCl4 = -k*TiCl4*O2\n",
    "    rate_O2 = -k*TiCl4*O2\n",
    "    return (rate_TiCl4, rate_O2)"
   ]
  },
  {
   "cell_type": "code",
   "execution_count": 5,
   "metadata": {
    "collapsed": false,
    "scrolled": true
   },
   "outputs": [],
   "source": [
    "# Actual rate equation, constant T, constant P\n",
    "\n",
    "def isothermal_rates(variables, time):\n",
    "    \"\"\"\n",
    "    Return the right hand side of the ODE\n",
    "    \"\"\"\n",
    "    \n",
    "    k1 = A1*np.exp(-Ea/(R*T0)) * 1e-3\n",
    "\n",
    "    k2 = A2*np.exp(-Ea/(R*T0)) * 1e-3\n",
    "    \n",
    "    TiCl4, O2 = variables\n",
    "    if O2 - (k1+k2*np.sqrt(O2))*TiCl4*end_time/steps <= 0 or np.isclose(0,O2) :\n",
    "        return (0, 0)\n",
    "    \n",
    "    else:\n",
    "        rate_TiCl4 = -(k1+k2*np.sqrt(O2))*TiCl4\n",
    "        rate_O2 = -(k1+k2*np.sqrt(O2))*TiCl4\n",
    "        \n",
    "        return (rate_TiCl4, rate_O2)"
   ]
  },
  {
   "cell_type": "code",
   "execution_count": 6,
   "metadata": {
    "collapsed": false
   },
   "outputs": [],
   "source": [
    "# Actual rate equation, non-constant T, constant P\n",
    "\n",
    "def isobaric_rates(variables, time):\n",
    "    \"\"\"\n",
    "    Return the right hand side of the ODE\n",
    "    \"\"\"\n",
    "    TiCl4, O2, T = variables\n",
    "    \n",
    "    k1 = A1*np.exp(-Ea/(R*T)) * 1e-3\n",
    "\n",
    "    k2 = A2*np.exp(-Ea/(R*T)) * 1e-3\n",
    "    \n",
    "    delHr = (T-726.85)*(12/125) - 102\n",
    "    \n",
    "    if O2 - (k1+k2*np.sqrt(O2))*TiCl4*end_time/steps <= 0 or np.isclose(0,O2) :\n",
    "        return (0, 0, 0)\n",
    "    \n",
    "    else:\n",
    "        rate_TiCl4 = -(k1+k2*np.sqrt(O2))*TiCl4\n",
    "        rate_O2 = -(k1+k2*np.sqrt(O2))*TiCl4\n",
    "        \n",
    "        if isobaric_initial_conditions[1] < isobaric_initial_conditions[0]:\n",
    "            X = (isobaric_initial_conditions[1] - (O2 + rate_O2))/isobaric_initial_conditions[1]\n",
    "        else:\n",
    "            X = (isobaric_initial_conditions[0] - (TiCl4 + rate_TiCl4))/isobaric_initial_conditions[0]\n",
    "        \n",
    "        Cp_TiCl4 = A_TiCl4 + B_TiCl4*(T/1000) + C_TiCl4*((T/1000)**2) + D_TiCl4*((T/1000)**3) + E_TiCl4/((T/1000)**2)\n",
    "        \n",
    "        Cp_O2 = A_O2 + B_O2*(T/1000) + C_O2*((T/1000)**2) + D_O2*((T/1000)**3) + E_O2/((T/1000)**2)\n",
    "        \n",
    "        Cp_TiO2 = A_TiO2 + B_TiO2*(T/1000) + C_TiO2*((T/1000)**2) + D_TiO2*((T/1000)**3) + E_TiO2/((T/1000)**2)\n",
    "        \n",
    "        Cp_Cl2 = A_Cl2 + B_Cl2*(T/1000) + C_Cl2*((T/1000)**2) + D_Cl2*((T/1000)**3) + E_Cl2/((T/1000)**2)\n",
    "        \n",
    "        rate_T = -delHr * X # / (Cp_TiCl4 + Cp_O2 - Cp_TiO2 - 2*Cp_Cl2)\n",
    "        \n",
    "        # print(X, rate_T)\n",
    "        \n",
    "        return (rate_TiCl4, rate_O2, rate_T)"
   ]
  },
  {
   "cell_type": "code",
   "execution_count": 26,
   "metadata": {
    "collapsed": false
   },
   "outputs": [],
   "source": [
    "first_order_result = odeint(first_order_rates, isothermal_initial_conditions, times)\n",
    "TiCl4_first_order = first_order_result[:,0]             \n",
    "O2_first_order = first_order_result[:,1]\n",
    "\n",
    "isothermal_result = odeint(isothermal_rates, isothermal_initial_conditions, times)\n",
    "TiCl4_isothermal = isothermal_result[:,0]             \n",
    "O2_isothermal = isothermal_result[:,1]\n",
    "\n",
    "isobaric_result = odeint(isobaric_rates, isobaric_initial_conditions, times)\n",
    "TiCl4_isobaric = isobaric_result[:,0]             \n",
    "O2_isobaric = isobaric_result[:,1]\n",
    "Ts_isobaric = isobaric_result[:,2]"
   ]
  },
  {
   "cell_type": "code",
   "execution_count": 47,
   "metadata": {
    "collapsed": false
   },
   "outputs": [
    {
     "data": {
      "image/png": "[encoded data removed]",
      "text/plain": [
       "<matplotlib.figure.Figure at 0x2793e9f8c18>"
      ]
     },
     "metadata": {},
     "output_type": "display_data"
    }
   ],
   "source": [
    "fig, ax1 = plt.subplots()\n",
    "ax1.plot(times, TiCl4_isobaric, 'g-', label='TiCl4 non-isothermal')\n",
    "#ax1.plot(times, O2_isobaric, 'b-', label='O2 non-isothermal')\n",
    "\n",
    "ax1.plot(times, TiCl4_isothermal, 'g--', label='TiCl4 isothermal')\n",
    "#ax1.plot(times, O2_isothermal, 'b--', label='O2 isothermal')\n",
    "\n",
    "ax1.plot(times, TiCl4_first_order, 'g-.', label='TiCl4 1st Order')\n",
    "#ax1.plot(times, O2_first_order, 'b-.', label='O2 1st Order')\n",
    "\n",
    "ax1.set_xlabel('time (ms)')\n",
    "\n",
    "# Make the y-axis label and tick labels match the line color.\n",
    "ax1.set_ylabel('Concentration (mol/m^3)', color='b', )\n",
    "for tl in ax1.get_yticklabels():\n",
    "    tl.set_color('b')\n",
    "\n",
    "plt.legend(loc='center left', bbox_to_anchor=(1.25, .5))\n",
    "\n",
    "ax2 = ax1.twinx()\n",
    "ax2.plot(times, Ts_isobaric, 'r.', label='Temperature')\n",
    "ax2.set_ylabel('Temperature (K)', color='r')\n",
    "for tl in ax2.get_yticklabels():\n",
    "    tl.set_color('r')\n",
    "    \n",
    "plt.show()"
   ]
  },
  {
   "cell_type": "code",
   "execution_count": null,
   "metadata": {
    "collapsed": true
   },
   "outputs": [],
   "source": []
  }
 ],
 "metadata": {
  "anaconda-cloud": {},
  "kernelspec": {
   "display_name": "Python [conda root]",
   "language": "python",
   "name": "conda-root-py"
  },
  "language_info": {
   "codemirror_mode": {
    "name": "ipython",
    "version": 3
   },
   "file_extension": ".py",
   "mimetype": "text/x-python",
   "name": "python",
   "nbconvert_exporter": "python",
   "pygments_lexer": "ipython3",
   "version": "3.5.2"
  }
 },
 "nbformat": 4,
 "nbformat_minor": 0
}
